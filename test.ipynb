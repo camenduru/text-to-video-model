{
  "cells": [
    {
      "cell_type": "markdown",
      "metadata": {
        "id": "view-in-github"
      },
      "source": [
        "[![Open In Colab](https://colab.research.google.com/assets/colab-badge.svg)](https://colab.research.google.com/github/camenduru/text-to-video-model/blob/main/test.ipynb)"
      ]
    },
    {
      "cell_type": "code",
      "execution_count": null,
      "metadata": {},
      "outputs": [],
      "source": [
        "%cd /content\n",
        "\n",
        "%env TF_CPP_MIN_LOG_LEVEL=1\n",
        "\n",
        "!apt -y install -qq aria2 \n",
        "\n",
        "!pip install -q gradio==3.40.1 diffusers==0.20.0 transformers==4.32.0 accelerate==0.22.0 xformers==0.0.20 triton==2.0.0 einops==0.6.1 omegaconf==2.3.0 decord==0.6.0 safetensors==0.3.2 imageio[ffmpeg]==2.31.1\n",
        "!git clone -b dev https://github.com/camenduru/Text-To-Video-Finetuning\n",
        "\n",
        "!aria2c --console-log-level=error -c -x 16 -s 16 -k 1M https://huggingface.co/camenduru/potat1/raw/main/scheduler/scheduler_config.json -d /content/potat1 -o scheduler/scheduler_config.json\n",
        "!aria2c --console-log-level=error -c -x 16 -s 16 -k 1M https://huggingface.co/camenduru/potat1/raw/main/text_encoder/config.json -d /content/potat1 -o text_encoder/config.json\n",
        "!aria2c --console-log-level=error -c -x 16 -s 16 -k 1M https://huggingface.co/camenduru/potat1/resolve/main/text_encoder/pytorch_model.bin -d /content/potat1 -o text_encoder/pytorch_model.bin\n",
        "!aria2c --console-log-level=error -c -x 16 -s 16 -k 1M https://huggingface.co/camenduru/potat1/raw/main/tokenizer/merges.txt -d /content/potat1 -o tokenizer/merges.txt\n",
        "!aria2c --console-log-level=error -c -x 16 -s 16 -k 1M https://huggingface.co/camenduru/potat1/raw/main/tokenizer/special_tokens_map.json -d /content/potat1 -o tokenizer/special_tokens_map.json\n",
        "!aria2c --console-log-level=error -c -x 16 -s 16 -k 1M https://huggingface.co/camenduru/potat1/raw/main/tokenizer/tokenizer_config.json -d /content/potat1 -o tokenizer/tokenizer_config.json\n",
        "!aria2c --console-log-level=error -c -x 16 -s 16 -k 1M https://huggingface.co/camenduru/potat1/raw/main/tokenizer/vocab.json -d /content/potat1 -o tokenizer/vocab.json\n",
        "!aria2c --console-log-level=error -c -x 16 -s 16 -k 1M https://huggingface.co/camenduru/potat1/raw/main/unet/config.json -d /content/potat1 -o unet/config.json\n",
        "!aria2c --console-log-level=error -c -x 16 -s 16 -k 1M https://huggingface.co/camenduru/potat1/resolve/main/unet/diffusion_pytorch_model.bin -d /content/potat1 -o unet/diffusion_pytorch_model.bin\n",
        "!aria2c --console-log-level=error -c -x 16 -s 16 -k 1M https://huggingface.co/camenduru/potat1/raw/main/vae/config.json -d /content/potat1 -o vae/config.json\n",
        "!aria2c --console-log-level=error -c -x 16 -s 16 -k 1M https://huggingface.co/camenduru/potat1/resolve/main/vae/diffusion_pytorch_model.bin -d /content/potat1 -o vae/diffusion_pytorch_model.bin\n",
        "!aria2c --console-log-level=error -c -x 16 -s 16 -k 1M https://huggingface.co/camenduru/potat1/raw/main/model_index.json -d /content/potat1 -o model_index.json"
      ]
    },
    {
      "cell_type": "code",
      "execution_count": null,
      "metadata": {},
      "outputs": [],
      "source": [
        "%cd /content/Text-To-Video-Finetuning\n",
        "# while True:\n",
        "prompt = \"studio ghibli style animation, young girl waiting at the bus stop on a rainy chilling day\" #@param {type:\"string\"}\n",
        "negative = \"text, watermark, copyright, blurry, low resolution, blur, low quality\" #@param {type:\"string\"}\n",
        "prompt = f\"\\\"{prompt}\\\"\"\n",
        "negative = f\"\\\"{negative}\\\"\"\n",
        "num_steps = 25 #@param {type:\"raw\"}\n",
        "guidance_scale = 23 #@param {type:\"raw\"}\n",
        "fps = 24 #@param {type:\"raw\"}\n",
        "num_frames = 10 #@param {type:\"raw\"}\n",
        "!python inference.py -m \"/content/potat1\" -p {prompt} -n {negative} -W 1024 -H 576 -o /content/outputs -d cuda -x -s {num_steps} -g {guidance_scale} -f {fps} -T {num_frames}"
      ]
    }
  ],
  "metadata": {
    "accelerator": "GPU",
    "colab": {
      "gpuType": "T4",
      "provenance": []
    },
    "kernelspec": {
      "display_name": "Python 3",
      "name": "python3"
    },
    "language_info": {
      "name": "python"
    }
  },
  "nbformat": 4,
  "nbformat_minor": 0
}
